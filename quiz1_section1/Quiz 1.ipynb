{
 "cells": [
  {
   "attachments": {},
   "cell_type": "markdown",
   "metadata": {},
   "source": [
    "# <span style=\"color:red\"> QTM 151 - Quiz 1 </span>"
   ]
  },
  {
   "attachments": {},
   "cell_type": "markdown",
   "metadata": {},
   "source": [
    "## Submit as an HTML file\n",
    "## Quiz is open 11:30am to 12:20pm"
   ]
  },
  {
   "attachments": {},
   "cell_type": "markdown",
   "metadata": {},
   "source": [
    "<font size=\"5\"> \n",
    "\n",
    "Print your name below"
   ]
  },
  {
   "cell_type": "code",
   "execution_count": 1,
   "metadata": {},
   "outputs": [
    {
     "name": "stdout",
     "output_type": "stream",
     "text": [
      "Alan Zhao\n"
     ]
    }
   ],
   "source": [
    "# Write your answer here\n",
    "\n",
    "print(\"Alan Zhao\")"
   ]
  },
  {
   "attachments": {},
   "cell_type": "markdown",
   "metadata": {},
   "source": [
    "<font size = \"5\" >\n",
    "This quiz is open book \n",
    "\n",
    "- You can use the lecture notes\n",
    "- You will get partial credit for attempting the questions\n",
    "- To get full credit, the code should work as intended\n",
    "- You should <span style=\"color:red\"> NOT </span> communicate with other students\n",
    "\n",
    "Print the following message: <br>\n",
    "\n",
    "\"I will abide by Emory's code of conduct\"\n"
   ]
  },
  {
   "cell_type": "code",
   "execution_count": 2,
   "metadata": {},
   "outputs": [
    {
     "name": "stdout",
     "output_type": "stream",
     "text": [
      "I will abide by Emory's code of conduct\n"
     ]
    }
   ],
   "source": [
    "# Write your answer here:\n",
    "print(\"I will abide by Emory's code of conduct\")\n"
   ]
  },
  {
   "attachments": {},
   "cell_type": "markdown",
   "metadata": {},
   "source": [
    "<font size = \"5\">\n",
    "\n",
    "Import the libraries \"numpy\", \"matplotlib.pyplot\", and \"pandas\""
   ]
  },
  {
   "cell_type": "code",
   "execution_count": 3,
   "metadata": {},
   "outputs": [],
   "source": [
    "import numpy as np \n",
    "import matplotlib.pyplot as plt \n",
    "import pandas as pd\n"
   ]
  },
  {
   "cell_type": "markdown",
   "metadata": {},
   "source": [
    "<font size = \"5\">\n",
    "\n",
    "1. IF/ELIF/ELSE statements\n",
    "\n",
    "<font size = \"3\">\n",
    "\n",
    "- In the beginning of the code cell below, two lists are created, where element 0 is one of two random choices: \n",
    "```python\n",
    "list_p = [\"Introduction\"/\"Intro\", \"to\", \"Python\"]\n",
    "list_r = [\"Introduction\"/\"Intro\", \"to\", \"R\"]\n",
    "```\n",
    "\n",
    "- Create a new variable ``` keyword = \"Introduction\" ```\n",
    "- Create an if/elif/else block that tests whether ``` keyword ``` is part of either <br>\n",
    "list.  Depending on the outcome (belongs to list_p, belongs to list_r, doesn't belong to either list) print an appropriate message to the screen.\n",
    "\n",
    "HINT: If the creation of list_p and list_r is confusing, add print statements to view the two lists and run the cell 3-4 times to see some of the possible situations\n",
    "\n",
    "\n"
   ]
  },
  {
   "cell_type": "code",
   "execution_count": null,
   "metadata": {},
   "outputs": [
    {
     "name": "stdout",
     "output_type": "stream",
     "text": [
      "List_p contains 'Introduction'\n",
      "Neither list contains 'Introduction'\n",
      "Neither list contains 'Introduction'\n"
     ]
    }
   ],
   "source": [
    "### create lists DO NOT CHANGE\n",
    "str_choices = [[\"Introduction\", \"Intro\"], [\"Intro\", \"Introduction\"], [\"Intro\", \"Intro\"]]\n",
    "str_indices = np.random.choice([0, 1, 2])\n",
    "start_str = str_choices[str_indices]\n",
    "\n",
    "list_p = [start_str[0], \"to\", \"Python\"]\n",
    "list_r = [start_str[1], \"to\", \"R\"]\n",
    "### Your solution below\n",
    "\n",
    "keyword = \"Introduction\"\n",
    "\n",
    "for i in range(len(list_p)):\n",
    "    if keyword in list_p[i]:\n",
    "        print(\"List_p contains 'Introduction'\")\n",
    "    elif keyword in list_r[i]:\n",
    "        print(\"List_r contains 'Introduction'\")\n",
    "    else:\n",
    "        print(\"Neither list contains 'Introduction'\")\n",
    "\n"
   ]
  },
  {
   "attachments": {},
   "cell_type": "markdown",
   "metadata": {},
   "source": [
    "<font size = \"5\">\n",
    "\n",
    "2. Generate a vector of values and plot it\n",
    "\n",
    "<font size = \"3\">\n",
    "\n",
    "- Below, two lists are defined containing values of $x_k$ and $y_k$\n",
    "\n",
    "```python\n",
    "    coord_x = [1,4, 0, -1, 20, 40]\n",
    "    coord_y = [2,2, 0, 10, 0, 1]\n",
    "```\n",
    "\n",
    "- Create a vector (**vector always means numpy array**) ```hypotenuse_sqr``` with elements $h_k$ defined by the formula\n",
    "\n",
    "$\\qquad h_k = x_k^2 + y_k^2$\n",
    "\n",
    "- You **should not** define it manually: so \"hypoteneuse_sqr = np.array([5, 20, 0, 101, 400, 1601])\" is not an acceptable answer\n",
    "\n",
    "- Produce a **histogram** with the elements of ```hypotenuse_sqr``` on the horizontal axis\n",
    "- Label the axes and the title\n",
    "- Change the color to \"orange\", \"green\" or \"purple\" (you choose)\n",
    "- Make sure the plot appears in an output cell\n",
    "\n",
    "Hint: Most mathematical operations are defined for Numpy arrays, which allows you to avoid loops\n",
    "\n",
    "Hint: type \"help(plt.hist)\" to see which argument is used to change color"
   ]
  },
  {
   "cell_type": "code",
   "execution_count": 15,
   "metadata": {},
   "outputs": [
    {
     "data": {
      "text/plain": [
       "Text(0, 0.5, 'Frequency')"
      ]
     },
     "execution_count": 15,
     "metadata": {},
     "output_type": "execute_result"
    },
    {
     "data": {
      "image/png": "[encoded data removed]",
      "text/plain": [
       "<Figure size 640x480 with 1 Axes>"
      ]
     },
     "metadata": {},
     "output_type": "display_data"
    }
   ],
   "source": [
    "coord_x = [1,4, 0, -1, 20, 40]\n",
    "coord_y = [2,2, 0, 10, 0, 1]\n",
    "\n",
    "### Your solution below\n",
    "\n",
    "hypotenuse_sqr = []\n",
    "for i in range(len(coord_x)):\n",
    "    hypotenuse_sqr.append(coord_x[i]**2 + coord_y[i]**2)\n",
    "\n",
    "plt.hist(hypotenuse_sqr, color='purple', edgecolor='black', bins=5)\n",
    "plt.title(\"Histogram of Squared Hypotenuses\")\n",
    "plt.xlabel(\"Hypotenuse Squared\")\n",
    "plt.ylabel(\"Frequency\")\n"
   ]
  },
  {
   "attachments": {},
   "cell_type": "markdown",
   "metadata": {},
   "source": [
    "<font size = \"5\">\n",
    "\n",
    "3. Histograms of random variables\n",
    "\n",
    "<font size = \"3\">\n",
    "\n",
    "- Let $n = 500$\n",
    "- Generate \"vec_x\" from a normal distribution with (loc = 0,scale = 1,size = n)\n",
    "- Generate \"vex_z\" from a normal distribution with (loc = 5,scale = 1,size = n)\n",
    "- Plot two **histograms** on a single row using the ```plt.subplots``` syntax\n",
    "    - Label the axes and title\n",
    "    - Each graph should have its axes labeled, and should have their own title\n",
    " \n",
    "Hint: If you can't remember how subplots works, generate two individual plots for partial credit"
   ]
  },
  {
   "cell_type": "code",
   "execution_count": 21,
   "metadata": {},
   "outputs": [
    {
     "ename": "ValueError",
     "evalue": "Number of rows must be a positive integer, not array([-0.45261103,  0.69351974, -0.03729354, -0.89537923,  1.99689606,\n        0.62198092, -0.69108382,  1.49017886, -0.62247643,  0.31210961,\n       -1.54417262,  0.33956407,  2.3903186 ,  1.18247525, -0.52575704,\n       -1.10249807, -0.13832661, -1.28041062, -1.53297317,  2.44141901,\n        1.50168937, -0.75207821,  1.85429322,  1.06875   , -2.46246922,\n        0.08231509,  0.48672778, -0.01524216, -1.54070203, -1.08517162,\n        0.45861239, -1.20522478, -1.07076399, -1.20809246, -0.64209248,\n       -0.25348258, -1.01083407, -3.42362531,  1.19910985,  0.13739866,\n        0.21292219,  0.06514928,  0.13868995, -0.13960007, -1.15676397,\n        0.51366478,  0.51562658,  0.23799057,  0.34274692, -0.94426331,\n        0.44219685, -0.27173211, -0.53557617, -2.89755622,  0.73304596,\n       -2.90331305, -0.89506072, -0.08397917,  1.28604925, -0.46661074,\n        0.07803809,  0.50752552,  0.49396078,  2.07275388, -0.2522326 ,\n        1.39833132, -1.03992681, -1.69079801, -0.09351413,  1.41173079,\n        0.01435779, -1.17175307,  1.25357432, -1.37634725,  0.59879776,\n       -2.03020514,  1.1647536 ,  1.45138302, -0.15504697, -1.34077617,\n       -1.88834755,  1.0736899 , -0.72016822, -1.54335781, -0.76035644,\n        0.88015701,  1.5569089 ,  0.58333469, -2.08694437, -0.0701957 ,\n        0.68867101,  1.28180995, -0.82118881,  0.02268854, -1.80040663,\n        0.48656742,  1.47687711, -0.63395154, -0.27935429,  1.36241402,\n        0.76514331, -0.18527546,  1.49231013, -0.62806929, -0.52768608,\n        0.66999601,  1.2945511 , -0.24417021,  2.5366072 , -0.05460958,\n       -0.33017276,  1.51919404,  0.44555984, -0.33754407, -1.78523304,\n        0.10946899,  1.25422742,  1.83669924,  0.96569723, -0.51384819,\n       -1.4732961 ,  0.17160839,  1.49120404, -1.50984937,  0.31036594,\n       -1.77154517,  0.72322812,  0.40211283,  1.13557135,  0.0186118 ,\n        0.72643062, -0.95626119, -0.7303342 , -0.09226833,  0.13529609,\n       -0.35227291,  2.20988525,  0.09385061,  1.07759349, -0.10423405,\n        0.71458161, -0.17510619,  1.01209012, -1.33411298,  0.47409164,\n        0.71991589,  0.78444005,  0.27322683,  0.81731755, -0.54193122,\n        1.46493671,  0.76474502, -0.89559524,  0.12321929,  1.35972897,\n        0.46651198,  0.39061586, -1.95162794,  0.12071181, -0.51896838,\n        2.79263281, -2.03286433, -2.17966095,  0.03506037,  0.89129828,\n        0.85629985,  0.21863857,  0.45813618,  0.68604403, -0.0267111 ,\n       -1.26585148,  0.34141283,  1.33435501, -0.25385133,  1.99562832,\n       -0.30097217, -1.26804497, -1.64229606,  0.04084464,  0.80077039,\n        0.65121423, -0.33041168,  0.28523455, -0.28095064,  0.37337747,\n        0.63514382, -0.85906775,  0.71259965, -0.07736417, -0.03460817,\n        1.05212727,  2.19694125,  1.01516646,  1.96977344, -1.56434228,\n       -0.86276525,  0.4108502 ,  0.42539033,  0.55195197, -0.24575149,\n        1.22460952,  1.56861563,  0.4278448 , -0.88421827,  0.33510776,\n        2.22297692, -2.27129375, -0.31231039, -0.53876475, -0.54089565,\n       -1.52612532,  0.07054594,  0.21401746, -1.81179379, -0.70265616,\n        0.31762401,  1.15688917, -0.51033885, -1.19662549,  0.20655047,\n        1.58674212,  1.1671744 , -1.62195412,  0.28379355, -1.04301307,\n        2.0061773 ,  0.26723833,  1.22338874,  0.22617911,  1.90557733,\n       -1.52975801, -0.0603562 ,  0.84517722,  0.53064648, -1.03547004,\n        0.50696076,  1.72879803, -0.67758662,  0.91543465, -0.99064554,\n        0.22529817, -0.41055015, -0.99972206, -1.03389392, -1.84515995,\n       -1.3534236 ,  1.74340832,  0.81969875,  0.342364  ,  0.24857132,\n       -1.09832609,  0.42266879, -1.61158725, -0.82023619, -0.13205793,\n       -1.28815606,  1.05018006, -0.14134996,  0.83491941, -2.90279385,\n       -1.0918079 ,  0.93967911, -0.17073214, -1.16811694, -2.12251547,\n        1.65804997, -0.91686993,  0.42814875, -0.65477962, -1.29384444,\n        0.27814454,  0.50552104, -1.87623614,  1.69073555, -0.23706701,\n        0.58290436, -0.31063727, -0.64107743,  0.14433424, -0.11377846,\n       -0.51225546, -1.38040421,  0.54734855, -1.15508928, -0.58484141,\n        0.47934638,  1.0323437 , -0.82250522,  0.64116763, -0.24663994,\n       -0.21904703,  1.05018956, -1.84364735, -0.5549065 , -0.87094139,\n       -0.81836096, -0.40957598, -0.03349328,  1.74592566, -0.50465404,\n        1.07211481, -0.68950608,  0.10093379, -0.20725289,  0.20705979,\n       -1.07536888, -0.59283859,  2.56156042,  0.35643247, -1.12041385,\n        0.81941158, -0.23744208, -0.14596787, -0.53511618,  1.27933408,\n       -0.9975281 ,  1.31486147,  0.09276899, -0.83142547, -0.46304091,\n        0.38100008, -1.32056451, -0.82668945, -1.80166995, -0.42017612,\n       -0.82514038, -0.45949543,  0.59111104,  1.15065519,  0.38417516,\n       -0.54917001, -1.07824564, -0.86201122,  0.62772144, -1.53784639,\n       -1.77840159,  0.55280602, -0.81390543,  0.90858351,  0.57295673,\n        1.27546438,  0.03769679, -0.86427687,  1.8435186 ,  0.10995538,\n        0.3078276 ,  0.32125431,  0.06707607, -0.73480411, -0.27335309,\n        0.77655186, -1.13874758, -0.87198704, -0.50173557, -0.67621965,\n        1.63935464,  1.96455666, -0.26156128,  0.22098187, -0.25636612,\n       -3.20392306,  0.65842412, -0.10056321, -1.70457771, -0.371064  ,\n        0.76038353, -0.44122032, -2.06685962,  0.45687019, -1.04456535,\n       -0.68786651, -0.57148547,  0.36664484, -0.89953343,  0.69875125,\n        0.47692679,  0.77742415,  0.87863018,  1.59280229, -1.1362433 ,\n       -0.27010981,  1.53988988, -0.01047605, -0.09146879, -0.38701875,\n        1.47728767,  0.30829742, -0.42029886, -1.13835831, -1.09395787,\n       -1.59349628, -0.27874758,  1.36090214, -0.28266583,  1.12731532,\n        0.05478538, -0.08774062,  1.23556682, -1.40208027,  1.72722768,\n        0.41781539, -0.25508061,  0.57342776,  0.70784969, -2.20137448,\n       -1.69473473,  0.95167022, -0.56860355, -1.26900127, -0.29319689,\n        1.55114704,  1.25543785,  0.85933321, -1.42733349,  2.97817299,\n        1.35338164, -0.27810109, -0.92002139, -0.49035785,  0.86590953,\n       -0.45952009, -0.41225014, -0.25544004,  0.27254679, -2.88238358,\n       -0.66659411,  0.38706801,  1.27427414, -1.22799945, -0.04659974,\n        0.29801015,  0.50439378, -0.4730841 ,  0.98048635, -0.93116885,\n       -1.31581532, -1.59156055, -0.96507418, -1.38343943,  0.29369462,\n       -1.01531363, -0.56675681,  1.13303489, -1.47677244,  1.62194832,\n        0.17924939, -0.37743545, -0.16449981, -1.2051765 , -0.01246565,\n       -1.53088281,  0.19411154, -2.27614318, -0.4582624 , -0.8523304 ,\n       -1.10439308,  0.46981398,  0.42474512, -0.93612356, -1.47308005,\n        0.46002074, -1.50441932, -1.38583719,  2.14834508, -1.02544853,\n        0.90204044, -0.28513645,  0.40931133,  0.39838665, -1.70361828,\n        1.21199067, -0.344114  , -0.94791134,  1.35514336,  1.9456042 ,\n       -0.83369249,  0.0149168 ,  0.29554978,  0.27017245, -0.19740286,\n       -0.7189227 ,  1.54213962, -1.12390437, -1.82163112,  0.37932   ,\n       -0.94048696, -0.58885251,  0.13310661,  0.02783647,  0.30933356,\n       -2.97287903,  0.04449032, -0.98360071, -1.25342346, -0.95517721,\n        1.11308545, -0.0065936 , -0.65989379,  0.08479227, -1.46083028])",
     "output_type": "error",
     "traceback": [
      "\u001b[0;31m---------------------------------------------------------------------------\u001b[0m",
      "\u001b[0;31mValueError\u001b[0m                                Traceback (most recent call last)",
      "Cell \u001b[0;32mIn[21], line 7\u001b[0m\n\u001b[1;32m      5\u001b[0m vecx \u001b[38;5;241m=\u001b[39m np\u001b[38;5;241m.\u001b[39mrandom\u001b[38;5;241m.\u001b[39mnormal(loc \u001b[38;5;241m=\u001b[39m \u001b[38;5;241m0\u001b[39m, scale \u001b[38;5;241m=\u001b[39m \u001b[38;5;241m1\u001b[39m, size \u001b[38;5;241m=\u001b[39m n)\n\u001b[1;32m      6\u001b[0m vecy \u001b[38;5;241m=\u001b[39m np\u001b[38;5;241m.\u001b[39mrandom\u001b[38;5;241m.\u001b[39mnormal(loc \u001b[38;5;241m=\u001b[39m \u001b[38;5;241m5\u001b[39m, scale \u001b[38;5;241m=\u001b[39m \u001b[38;5;241m1\u001b[39m, size \u001b[38;5;241m=\u001b[39m n)\n\u001b[0;32m----> 7\u001b[0m plt\u001b[38;5;241m.\u001b[39msubplots(vecx, vecy)\n",
      "File \u001b[0;32m/opt/anaconda3/lib/python3.11/site-packages/matplotlib/pyplot.py:1599\u001b[0m, in \u001b[0;36msubplots\u001b[0;34m(nrows, ncols, sharex, sharey, squeeze, width_ratios, height_ratios, subplot_kw, gridspec_kw, **fig_kw)\u001b[0m\n\u001b[1;32m   1455\u001b[0m \u001b[38;5;250m\u001b[39m\u001b[38;5;124;03m\"\"\"\u001b[39;00m\n\u001b[1;32m   1456\u001b[0m \u001b[38;5;124;03mCreate a figure and a set of subplots.\u001b[39;00m\n\u001b[1;32m   1457\u001b[0m \n\u001b[0;32m   (...)\u001b[0m\n\u001b[1;32m   1596\u001b[0m \n\u001b[1;32m   1597\u001b[0m \u001b[38;5;124;03m\"\"\"\u001b[39;00m\n\u001b[1;32m   1598\u001b[0m fig \u001b[38;5;241m=\u001b[39m figure(\u001b[38;5;241m*\u001b[39m\u001b[38;5;241m*\u001b[39mfig_kw)\n\u001b[0;32m-> 1599\u001b[0m axs \u001b[38;5;241m=\u001b[39m fig\u001b[38;5;241m.\u001b[39msubplots(nrows\u001b[38;5;241m=\u001b[39mnrows, ncols\u001b[38;5;241m=\u001b[39mncols, sharex\u001b[38;5;241m=\u001b[39msharex, sharey\u001b[38;5;241m=\u001b[39msharey,\n\u001b[1;32m   1600\u001b[0m                    squeeze\u001b[38;5;241m=\u001b[39msqueeze, subplot_kw\u001b[38;5;241m=\u001b[39msubplot_kw,\n\u001b[1;32m   1601\u001b[0m                    gridspec_kw\u001b[38;5;241m=\u001b[39mgridspec_kw, height_ratios\u001b[38;5;241m=\u001b[39mheight_ratios,\n\u001b[1;32m   1602\u001b[0m                    width_ratios\u001b[38;5;241m=\u001b[39mwidth_ratios)\n\u001b[1;32m   1603\u001b[0m \u001b[38;5;28;01mreturn\u001b[39;00m fig, axs\n",
      "File \u001b[0;32m/opt/anaconda3/lib/python3.11/site-packages/matplotlib/figure.py:930\u001b[0m, in \u001b[0;36mFigureBase.subplots\u001b[0;34m(self, nrows, ncols, sharex, sharey, squeeze, width_ratios, height_ratios, subplot_kw, gridspec_kw)\u001b[0m\n\u001b[1;32m    926\u001b[0m         \u001b[38;5;28;01mraise\u001b[39;00m \u001b[38;5;167;01mValueError\u001b[39;00m(\u001b[38;5;124m\"\u001b[39m\u001b[38;5;124m'\u001b[39m\u001b[38;5;124mwidth_ratios\u001b[39m\u001b[38;5;124m'\u001b[39m\u001b[38;5;124m must not be defined both as \u001b[39m\u001b[38;5;124m\"\u001b[39m\n\u001b[1;32m    927\u001b[0m                          \u001b[38;5;124m\"\u001b[39m\u001b[38;5;124mparameter and as key in \u001b[39m\u001b[38;5;124m'\u001b[39m\u001b[38;5;124mgridspec_kw\u001b[39m\u001b[38;5;124m'\u001b[39m\u001b[38;5;124m\"\u001b[39m)\n\u001b[1;32m    928\u001b[0m     gridspec_kw[\u001b[38;5;124m'\u001b[39m\u001b[38;5;124mwidth_ratios\u001b[39m\u001b[38;5;124m'\u001b[39m] \u001b[38;5;241m=\u001b[39m width_ratios\n\u001b[0;32m--> 930\u001b[0m gs \u001b[38;5;241m=\u001b[39m \u001b[38;5;28mself\u001b[39m\u001b[38;5;241m.\u001b[39madd_gridspec(nrows, ncols, figure\u001b[38;5;241m=\u001b[39m\u001b[38;5;28mself\u001b[39m, \u001b[38;5;241m*\u001b[39m\u001b[38;5;241m*\u001b[39mgridspec_kw)\n\u001b[1;32m    931\u001b[0m axs \u001b[38;5;241m=\u001b[39m gs\u001b[38;5;241m.\u001b[39msubplots(sharex\u001b[38;5;241m=\u001b[39msharex, sharey\u001b[38;5;241m=\u001b[39msharey, squeeze\u001b[38;5;241m=\u001b[39msqueeze,\n\u001b[1;32m    932\u001b[0m                   subplot_kw\u001b[38;5;241m=\u001b[39msubplot_kw)\n\u001b[1;32m    933\u001b[0m \u001b[38;5;28;01mreturn\u001b[39;00m axs\n",
      "File \u001b[0;32m/opt/anaconda3/lib/python3.11/site-packages/matplotlib/figure.py:1542\u001b[0m, in \u001b[0;36mFigureBase.add_gridspec\u001b[0;34m(self, nrows, ncols, **kwargs)\u001b[0m\n\u001b[1;32m   1503\u001b[0m \u001b[38;5;250m\u001b[39m\u001b[38;5;124;03m\"\"\"\u001b[39;00m\n\u001b[1;32m   1504\u001b[0m \u001b[38;5;124;03mReturn a `.GridSpec` that has this figure as a parent.  This allows\u001b[39;00m\n\u001b[1;32m   1505\u001b[0m \u001b[38;5;124;03mcomplex layout of Axes in the figure.\u001b[39;00m\n\u001b[0;32m   (...)\u001b[0m\n\u001b[1;32m   1538\u001b[0m \n\u001b[1;32m   1539\u001b[0m \u001b[38;5;124;03m\"\"\"\u001b[39;00m\n\u001b[1;32m   1541\u001b[0m _ \u001b[38;5;241m=\u001b[39m kwargs\u001b[38;5;241m.\u001b[39mpop(\u001b[38;5;124m'\u001b[39m\u001b[38;5;124mfigure\u001b[39m\u001b[38;5;124m'\u001b[39m, \u001b[38;5;28;01mNone\u001b[39;00m)  \u001b[38;5;66;03m# pop in case user has added this...\u001b[39;00m\n\u001b[0;32m-> 1542\u001b[0m gs \u001b[38;5;241m=\u001b[39m GridSpec(nrows\u001b[38;5;241m=\u001b[39mnrows, ncols\u001b[38;5;241m=\u001b[39mncols, figure\u001b[38;5;241m=\u001b[39m\u001b[38;5;28mself\u001b[39m, \u001b[38;5;241m*\u001b[39m\u001b[38;5;241m*\u001b[39mkwargs)\n\u001b[1;32m   1543\u001b[0m \u001b[38;5;28;01mreturn\u001b[39;00m gs\n",
      "File \u001b[0;32m/opt/anaconda3/lib/python3.11/site-packages/matplotlib/gridspec.py:378\u001b[0m, in \u001b[0;36mGridSpec.__init__\u001b[0;34m(self, nrows, ncols, figure, left, bottom, right, top, wspace, hspace, width_ratios, height_ratios)\u001b[0m\n\u001b[1;32m    375\u001b[0m \u001b[38;5;28mself\u001b[39m\u001b[38;5;241m.\u001b[39mhspace \u001b[38;5;241m=\u001b[39m hspace\n\u001b[1;32m    376\u001b[0m \u001b[38;5;28mself\u001b[39m\u001b[38;5;241m.\u001b[39mfigure \u001b[38;5;241m=\u001b[39m figure\n\u001b[0;32m--> 378\u001b[0m \u001b[38;5;28msuper\u001b[39m()\u001b[38;5;241m.\u001b[39m\u001b[38;5;21m__init__\u001b[39m(nrows, ncols,\n\u001b[1;32m    379\u001b[0m                  width_ratios\u001b[38;5;241m=\u001b[39mwidth_ratios,\n\u001b[1;32m    380\u001b[0m                  height_ratios\u001b[38;5;241m=\u001b[39mheight_ratios)\n",
      "File \u001b[0;32m/opt/anaconda3/lib/python3.11/site-packages/matplotlib/gridspec.py:48\u001b[0m, in \u001b[0;36mGridSpecBase.__init__\u001b[0;34m(self, nrows, ncols, height_ratios, width_ratios)\u001b[0m\n\u001b[1;32m     33\u001b[0m \u001b[38;5;250m\u001b[39m\u001b[38;5;124;03m\"\"\"\u001b[39;00m\n\u001b[1;32m     34\u001b[0m \u001b[38;5;124;03mParameters\u001b[39;00m\n\u001b[1;32m     35\u001b[0m \u001b[38;5;124;03m----------\u001b[39;00m\n\u001b[0;32m   (...)\u001b[0m\n\u001b[1;32m     45\u001b[0m \u001b[38;5;124;03m    If not given, all rows will have the same height.\u001b[39;00m\n\u001b[1;32m     46\u001b[0m \u001b[38;5;124;03m\"\"\"\u001b[39;00m\n\u001b[1;32m     47\u001b[0m \u001b[38;5;28;01mif\u001b[39;00m \u001b[38;5;129;01mnot\u001b[39;00m \u001b[38;5;28misinstance\u001b[39m(nrows, Integral) \u001b[38;5;129;01mor\u001b[39;00m nrows \u001b[38;5;241m<\u001b[39m\u001b[38;5;241m=\u001b[39m \u001b[38;5;241m0\u001b[39m:\n\u001b[0;32m---> 48\u001b[0m     \u001b[38;5;28;01mraise\u001b[39;00m \u001b[38;5;167;01mValueError\u001b[39;00m(\n\u001b[1;32m     49\u001b[0m         \u001b[38;5;124mf\u001b[39m\u001b[38;5;124m\"\u001b[39m\u001b[38;5;124mNumber of rows must be a positive integer, not \u001b[39m\u001b[38;5;132;01m{\u001b[39;00mnrows\u001b[38;5;132;01m!r}\u001b[39;00m\u001b[38;5;124m\"\u001b[39m)\n\u001b[1;32m     50\u001b[0m \u001b[38;5;28;01mif\u001b[39;00m \u001b[38;5;129;01mnot\u001b[39;00m \u001b[38;5;28misinstance\u001b[39m(ncols, Integral) \u001b[38;5;129;01mor\u001b[39;00m ncols \u001b[38;5;241m<\u001b[39m\u001b[38;5;241m=\u001b[39m \u001b[38;5;241m0\u001b[39m:\n\u001b[1;32m     51\u001b[0m     \u001b[38;5;28;01mraise\u001b[39;00m \u001b[38;5;167;01mValueError\u001b[39;00m(\n\u001b[1;32m     52\u001b[0m         \u001b[38;5;124mf\u001b[39m\u001b[38;5;124m\"\u001b[39m\u001b[38;5;124mNumber of columns must be a positive integer, not \u001b[39m\u001b[38;5;132;01m{\u001b[39;00mncols\u001b[38;5;132;01m!r}\u001b[39;00m\u001b[38;5;124m\"\u001b[39m)\n",
      "\u001b[0;31mValueError\u001b[0m: Number of rows must be a positive integer, not array([-0.45261103,  0.69351974, -0.03729354, -0.89537923,  1.99689606,\n        0.62198092, -0.69108382,  1.49017886, -0.62247643,  0.31210961,\n       -1.54417262,  0.33956407,  2.3903186 ,  1.18247525, -0.52575704,\n       -1.10249807, -0.13832661, -1.28041062, -1.53297317,  2.44141901,\n        1.50168937, -0.75207821,  1.85429322,  1.06875   , -2.46246922,\n        0.08231509,  0.48672778, -0.01524216, -1.54070203, -1.08517162,\n        0.45861239, -1.20522478, -1.07076399, -1.20809246, -0.64209248,\n       -0.25348258, -1.01083407, -3.42362531,  1.19910985,  0.13739866,\n        0.21292219,  0.06514928,  0.13868995, -0.13960007, -1.15676397,\n        0.51366478,  0.51562658,  0.23799057,  0.34274692, -0.94426331,\n        0.44219685, -0.27173211, -0.53557617, -2.89755622,  0.73304596,\n       -2.90331305, -0.89506072, -0.08397917,  1.28604925, -0.46661074,\n        0.07803809,  0.50752552,  0.49396078,  2.07275388, -0.2522326 ,\n        1.39833132, -1.03992681, -1.69079801, -0.09351413,  1.41173079,\n        0.01435779, -1.17175307,  1.25357432, -1.37634725,  0.59879776,\n       -2.03020514,  1.1647536 ,  1.45138302, -0.15504697, -1.34077617,\n       -1.88834755,  1.0736899 , -0.72016822, -1.54335781, -0.76035644,\n        0.88015701,  1.5569089 ,  0.58333469, -2.08694437, -0.0701957 ,\n        0.68867101,  1.28180995, -0.82118881,  0.02268854, -1.80040663,\n        0.48656742,  1.47687711, -0.63395154, -0.27935429,  1.36241402,\n        0.76514331, -0.18527546,  1.49231013, -0.62806929, -0.52768608,\n        0.66999601,  1.2945511 , -0.24417021,  2.5366072 , -0.05460958,\n       -0.33017276,  1.51919404,  0.44555984, -0.33754407, -1.78523304,\n        0.10946899,  1.25422742,  1.83669924,  0.96569723, -0.51384819,\n       -1.4732961 ,  0.17160839,  1.49120404, -1.50984937,  0.31036594,\n       -1.77154517,  0.72322812,  0.40211283,  1.13557135,  0.0186118 ,\n        0.72643062, -0.95626119, -0.7303342 , -0.09226833,  0.13529609,\n       -0.35227291,  2.20988525,  0.09385061,  1.07759349, -0.10423405,\n        0.71458161, -0.17510619,  1.01209012, -1.33411298,  0.47409164,\n        0.71991589,  0.78444005,  0.27322683,  0.81731755, -0.54193122,\n        1.46493671,  0.76474502, -0.89559524,  0.12321929,  1.35972897,\n        0.46651198,  0.39061586, -1.95162794,  0.12071181, -0.51896838,\n        2.79263281, -2.03286433, -2.17966095,  0.03506037,  0.89129828,\n        0.85629985,  0.21863857,  0.45813618,  0.68604403, -0.0267111 ,\n       -1.26585148,  0.34141283,  1.33435501, -0.25385133,  1.99562832,\n       -0.30097217, -1.26804497, -1.64229606,  0.04084464,  0.80077039,\n        0.65121423, -0.33041168,  0.28523455, -0.28095064,  0.37337747,\n        0.63514382, -0.85906775,  0.71259965, -0.07736417, -0.03460817,\n        1.05212727,  2.19694125,  1.01516646,  1.96977344, -1.56434228,\n       -0.86276525,  0.4108502 ,  0.42539033,  0.55195197, -0.24575149,\n        1.22460952,  1.56861563,  0.4278448 , -0.88421827,  0.33510776,\n        2.22297692, -2.27129375, -0.31231039, -0.53876475, -0.54089565,\n       -1.52612532,  0.07054594,  0.21401746, -1.81179379, -0.70265616,\n        0.31762401,  1.15688917, -0.51033885, -1.19662549,  0.20655047,\n        1.58674212,  1.1671744 , -1.62195412,  0.28379355, -1.04301307,\n        2.0061773 ,  0.26723833,  1.22338874,  0.22617911,  1.90557733,\n       -1.52975801, -0.0603562 ,  0.84517722,  0.53064648, -1.03547004,\n        0.50696076,  1.72879803, -0.67758662,  0.91543465, -0.99064554,\n        0.22529817, -0.41055015, -0.99972206, -1.03389392, -1.84515995,\n       -1.3534236 ,  1.74340832,  0.81969875,  0.342364  ,  0.24857132,\n       -1.09832609,  0.42266879, -1.61158725, -0.82023619, -0.13205793,\n       -1.28815606,  1.05018006, -0.14134996,  0.83491941, -2.90279385,\n       -1.0918079 ,  0.93967911, -0.17073214, -1.16811694, -2.12251547,\n        1.65804997, -0.91686993,  0.42814875, -0.65477962, -1.29384444,\n        0.27814454,  0.50552104, -1.87623614,  1.69073555, -0.23706701,\n        0.58290436, -0.31063727, -0.64107743,  0.14433424, -0.11377846,\n       -0.51225546, -1.38040421,  0.54734855, -1.15508928, -0.58484141,\n        0.47934638,  1.0323437 , -0.82250522,  0.64116763, -0.24663994,\n       -0.21904703,  1.05018956, -1.84364735, -0.5549065 , -0.87094139,\n       -0.81836096, -0.40957598, -0.03349328,  1.74592566, -0.50465404,\n        1.07211481, -0.68950608,  0.10093379, -0.20725289,  0.20705979,\n       -1.07536888, -0.59283859,  2.56156042,  0.35643247, -1.12041385,\n        0.81941158, -0.23744208, -0.14596787, -0.53511618,  1.27933408,\n       -0.9975281 ,  1.31486147,  0.09276899, -0.83142547, -0.46304091,\n        0.38100008, -1.32056451, -0.82668945, -1.80166995, -0.42017612,\n       -0.82514038, -0.45949543,  0.59111104,  1.15065519,  0.38417516,\n       -0.54917001, -1.07824564, -0.86201122,  0.62772144, -1.53784639,\n       -1.77840159,  0.55280602, -0.81390543,  0.90858351,  0.57295673,\n        1.27546438,  0.03769679, -0.86427687,  1.8435186 ,  0.10995538,\n        0.3078276 ,  0.32125431,  0.06707607, -0.73480411, -0.27335309,\n        0.77655186, -1.13874758, -0.87198704, -0.50173557, -0.67621965,\n        1.63935464,  1.96455666, -0.26156128,  0.22098187, -0.25636612,\n       -3.20392306,  0.65842412, -0.10056321, -1.70457771, -0.371064  ,\n        0.76038353, -0.44122032, -2.06685962,  0.45687019, -1.04456535,\n       -0.68786651, -0.57148547,  0.36664484, -0.89953343,  0.69875125,\n        0.47692679,  0.77742415,  0.87863018,  1.59280229, -1.1362433 ,\n       -0.27010981,  1.53988988, -0.01047605, -0.09146879, -0.38701875,\n        1.47728767,  0.30829742, -0.42029886, -1.13835831, -1.09395787,\n       -1.59349628, -0.27874758,  1.36090214, -0.28266583,  1.12731532,\n        0.05478538, -0.08774062,  1.23556682, -1.40208027,  1.72722768,\n        0.41781539, -0.25508061,  0.57342776,  0.70784969, -2.20137448,\n       -1.69473473,  0.95167022, -0.56860355, -1.26900127, -0.29319689,\n        1.55114704,  1.25543785,  0.85933321, -1.42733349,  2.97817299,\n        1.35338164, -0.27810109, -0.92002139, -0.49035785,  0.86590953,\n       -0.45952009, -0.41225014, -0.25544004,  0.27254679, -2.88238358,\n       -0.66659411,  0.38706801,  1.27427414, -1.22799945, -0.04659974,\n        0.29801015,  0.50439378, -0.4730841 ,  0.98048635, -0.93116885,\n       -1.31581532, -1.59156055, -0.96507418, -1.38343943,  0.29369462,\n       -1.01531363, -0.56675681,  1.13303489, -1.47677244,  1.62194832,\n        0.17924939, -0.37743545, -0.16449981, -1.2051765 , -0.01246565,\n       -1.53088281,  0.19411154, -2.27614318, -0.4582624 , -0.8523304 ,\n       -1.10439308,  0.46981398,  0.42474512, -0.93612356, -1.47308005,\n        0.46002074, -1.50441932, -1.38583719,  2.14834508, -1.02544853,\n        0.90204044, -0.28513645,  0.40931133,  0.39838665, -1.70361828,\n        1.21199067, -0.344114  , -0.94791134,  1.35514336,  1.9456042 ,\n       -0.83369249,  0.0149168 ,  0.29554978,  0.27017245, -0.19740286,\n       -0.7189227 ,  1.54213962, -1.12390437, -1.82163112,  0.37932   ,\n       -0.94048696, -0.58885251,  0.13310661,  0.02783647,  0.30933356,\n       -2.97287903,  0.04449032, -0.98360071, -1.25342346, -0.95517721,\n        1.11308545, -0.0065936 , -0.65989379,  0.08479227, -1.46083028])"
     ]
    },
    {
     "data": {
      "text/plain": [
       "<Figure size 640x480 with 0 Axes>"
      ]
     },
     "metadata": {},
     "output_type": "display_data"
    }
   ],
   "source": [
    "n = 500\n",
    "\n",
    "### Your solution below:\n",
    "\n",
    "vecx = np.random.normal(loc = 0, scale = 1, size = n)\n",
    "vecy = np.random.normal(loc = 5, scale = 1, size = n)\n",
    "plt.subplots(vecx, vecy)"
   ]
  },
  {
   "cell_type": "markdown",
   "metadata": {},
   "source": [
    "<font size = \"5\">\n",
    "\n",
    "4. Combine information across datasets\n",
    "\n",
    "<font size = \"3\">\n",
    "\n",
    "- Read the dataset \"/data_quiz_1/germany_co2_emissions.csv\" and store it as \"data_germany\"\n",
    "- View the dataset, and see what variables it contains\n",
    "- Create a **scatter plot** of CO2 emissions with the following characteristics\n",
    "    - The yearly variable on the x-axis.\n",
    "    - Germany's CO2 emissions on the y-axis.\n",
    "    - Label the axes\n"
   ]
  },
  {
   "cell_type": "code",
   "execution_count": null,
   "metadata": {},
   "outputs": [],
   "source": [
    "### Your solution below:\n",
    "\n"
   ]
  },
  {
   "attachments": {},
   "cell_type": "markdown",
   "metadata": {},
   "source": [
    "<font size = \"5\">\n",
    "\n",
    "5. Loop through dfferent variables and plot\n",
    "\n",
    "\n",
    "<font size = \"3\">\n",
    "\n",
    "- Read the dataset \"data_quiz_1/wdi_ageprop_2020.csv\"\n",
    "- Create a list of variable names with the following elements:\n",
    "\n",
    "```python\n",
    "    list_varnames = [\"percent_ages0to14\",\"percent_ages15to64\"]\n",
    "```\n",
    "\n",
    "- Run a for loop that computes the mean for each variable and print it on screen.\n",
    "\n",
    "Hint: Computing the mean of a column/variable from a Pandas dataset is just like computing the mean of a Numpy array\n"
   ]
  },
  {
   "cell_type": "code",
   "execution_count": null,
   "metadata": {},
   "outputs": [],
   "source": [
    "### Your solution below:\n",
    "\n",
    "\n"
   ]
  },
  {
   "cell_type": "markdown",
   "metadata": {},
   "source": [
    "<font size = \"5\">\n",
    "\n",
    "6. Run loop through different datasets and compute statistics\n",
    "\n",
    "<font size = \"3\">\n",
    "\n",
    "- Create a list with the \".csv\" dataset names of two countries of your choice. For example\n",
    "\n",
    "```python\n",
    "    [\"data_quiz_1/name1.csv\",\"data_quiz_1/name2.csv\"] \n",
    "```\n",
    "\n",
    "- Create an empty list called ``` list_emissions ```\n",
    "\n",
    "- Run a for-loop over the list of dataset names. Inside the loop:\n",
    "    - Read the corresponding \".csv\" dataset.\n",
    "    - Compute the mean of \"total_emissions\" for each respective country, <br>\n",
    "    and store it as an element of ```list_emissions```\n",
    "\n",
    "- After the loop, print ```list_emissions```\n",
    "\n",
    "HINT: Use ```.append()``` (See Lecture 5-supplement or Lecture 7)\n"
   ]
  },
  {
   "cell_type": "code",
   "execution_count": null,
   "metadata": {},
   "outputs": [],
   "source": [
    "### Your solution below:\n",
    "\n"
   ]
  }
 ],
 "metadata": {
  "kernelspec": {
   "display_name": "base",
   "language": "python",
   "name": "python3"
  },
  "language_info": {
   "codemirror_mode": {
    "name": "ipython",
    "version": 3
   },
   "file_extension": ".py",
   "mimetype": "text/x-python",
   "name": "python",
   "nbconvert_exporter": "python",
   "pygments_lexer": "ipython3",
   "version": "3.11.7"
  },
  "orig_nbformat": 4
 },
 "nbformat": 4,
 "nbformat_minor": 2
}
