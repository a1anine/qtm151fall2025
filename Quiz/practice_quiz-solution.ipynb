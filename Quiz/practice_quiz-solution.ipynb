{
 "cells": [
  {
   "cell_type": "markdown",
   "id": "3b7e2555",
   "metadata": {},
   "source": [
    "# <span style=\"color:red\"> QTM 151 - Practice Quiz </span>"
   ]
  },
  {
   "cell_type": "markdown",
   "id": "8398a0dc",
   "metadata": {},
   "source": [
    "<font size = 5>\n",
    "\n",
    "**Submit as an HTML file** (see images below)\n",
    "\n",
    "<font size = 3>\n",
    "\n",
    "Step 1: Click the 3 dots in the toolbar for \"More Actions\"\n",
    "\n",
    "<img src=\"practice_quiz_figures/step1.png\" alt=\"drawing\" width = \"600\"/>\n",
    "\n",
    "***\n",
    "Step 2: Choose \"export\"\n",
    "\n",
    "<img src=\"practice_quiz_figures/step2.png\" alt=\"drawing\" width = \"600\"/>\n",
    "\n",
    "***\n",
    "Step 3: Select \"HTML\" from the dropdown window\n",
    "\n",
    "<img src=\"practice_quiz_figures/step3.png\" alt=\"drawing\" width = \"600\"/>\n",
    "\n",
    "***\n",
    "Step 4: Select \"Export\" in the pop-up window.\n",
    "\n",
    "<img src=\"practice_quiz_figures/step4.png\" alt=\"drawing\" width = \"300\"/>\n",
    "\n",
    "Upload the .html file as your submission\n"
   ]
  },
  {
   "cell_type": "markdown",
   "id": "576a49a7",
   "metadata": {},
   "source": [
    "<font size=\"5\"> \n",
    "\n",
    "Print your name below"
   ]
  },
  {
   "cell_type": "code",
   "execution_count": 1,
   "id": "3f7f0165",
   "metadata": {},
   "outputs": [
    {
     "name": "stdout",
     "output_type": "stream",
     "text": [
      "Peter Sentz\n"
     ]
    }
   ],
   "source": [
    "# Write your answer here\n",
    "\n",
    "print(\"Peter Sentz\")"
   ]
  },
  {
   "cell_type": "markdown",
   "id": "14c8128c",
   "metadata": {},
   "source": [
    "<font size = \"5\" >\n",
    "This quiz is open book \n",
    "\n",
    "- You can use the lecture notes\n",
    "- You will get partial credit for attempting the questions\n",
    "- To get full credit, the code should work as intended\n",
    "- You should <span style=\"color:red\"> NOT </span> communicate with other students\n",
    "\n",
    "Print the following message: <br>\n",
    "\n",
    "\"I will abide by Emory's code of conduct\""
   ]
  },
  {
   "cell_type": "code",
   "execution_count": 2,
   "id": "c81393db",
   "metadata": {},
   "outputs": [
    {
     "name": "stdout",
     "output_type": "stream",
     "text": [
      "I will abide by Emory's code of conduct\n"
     ]
    }
   ],
   "source": [
    "# Write your answer here:\n",
    "print(\"I will abide by Emory's code of conduct\")"
   ]
  },
  {
   "cell_type": "markdown",
   "id": "fe7c2164",
   "metadata": {},
   "source": [
    "<font size = \"5\">\n",
    "\n",
    "(a) Checking If a Word is Part of a List\n",
    "\n",
    "<font size = \"3\">\n",
    "\n",
    "- Define a variable `topping1` with the value \"mushrooms\"\n",
    "- Define a variable `topping2` with the value \"pineapple\"\n",
    "- Define a list of pizza toppings with the values \"cheese\", \"mushrooms\", \"pepperoni\", and \"onions\"\n",
    "- Write expressions to test whether `topping1` and `topping2` are contained in `pizza_toppings` <br>\n",
    "and print the outputs\n",
    "- To get full points you must do all of the above tasks\n",
    "\n",
    "Hint: Use the \"in\" command. The final output should be 2 True/False values."
   ]
  },
  {
   "cell_type": "code",
   "execution_count": 3,
   "id": "b7e4518f",
   "metadata": {},
   "outputs": [
    {
     "name": "stdout",
     "output_type": "stream",
     "text": [
      "Pizza has mushrooms:  True\n",
      "Pizza has pineapple:  False\n"
     ]
    }
   ],
   "source": [
    "# Write your answer here:\n",
    "topping1 = \"mushrooms\"\n",
    "topping2 = \"pineapple\"\n",
    "\n",
    "pizza_toppings = [\"cheese\", \"mushrooms\", \"pepperoni\", \"onions\"]\n",
    "\n",
    "print(\"Pizza has mushrooms: \", topping1 in pizza_toppings)\n",
    "print(\"Pizza has pineapple: \", topping2 in pizza_toppings)"
   ]
  },
  {
   "cell_type": "markdown",
   "id": "97462dd4",
   "metadata": {},
   "source": [
    "<font size = \"5\">\n",
    "\n",
    "(b) Threshold testing a sum\n",
    "<br>\n",
    "\n",
    "<font size = \"3\">\n",
    "\n",
    "- Create a numeric vector (**\"vector\" always means Numpy array**), $ c = \\begin{bmatrix} 1 \\\\ 2 \\\\ 3 \\end{bmatrix} $\n",
    "- Use the \"numpy.sum()\"' function to add up the individual elements.\n",
    "- If the sum of numbers is higher than $5$, write a message saying <br>\n",
    "\" The sum is greater than or equal to 5\"\n",
    "- Otherwise show a message \"It is strictly less than 5\""
   ]
  },
  {
   "cell_type": "code",
   "execution_count": 5,
   "id": "2c194583",
   "metadata": {},
   "outputs": [
    {
     "name": "stdout",
     "output_type": "stream",
     "text": [
      "The sum is greater than or equal to 5\n"
     ]
    }
   ],
   "source": [
    "# Write your answer here:\n",
    "import numpy as np \n",
    "\n",
    "c = np.array([1, 2, 3])\n",
    "vec_sum = np.sum(c)\n",
    "\n",
    "if vec_sum >= 5:\n",
    "    print(\"The sum is greater than or equal to 5\")\n",
    "else:\n",
    "    print(\"It is strictly less than 5\")"
   ]
  },
  {
   "cell_type": "markdown",
   "id": "092ea34b",
   "metadata": {},
   "source": [
    "### c) For-loops + Plotting\n",
    "\n",
    "   - Create an array of x-values with 100 evenly spaced points between $0$ and $2\\pi$ <br>using `np.linspace()`. **Hint**: type ``help(np.linspace)`` in a separate cell to see how it is used\n",
    "\n",
    "   - Create a vector named ```vec_y1``` where each element is computed from the formula <br> $ y_k = \\sin(x_k)$. (Here $x_k$ is the $k$-th element of the array you created above, and $y_k$ is the $k$-th element of vec_y1)\n",
    "\n",
    "   - Create a vector ```vec_y2``` where each element is computed from the formula <br> $ y_k = \\cos(x_k)$.\n",
    "\n",
    "   - Create a list ```list_vectors``` with elements ```vec_y1``` and ```vec_y2```. (So a list with two components, both being numpy arrays)\n",
    "\n",
    "   - Create a for-loop that goes through each element of ```list_vectors``` and plots each <br>list of $y$ values on the vertical axis against $x$ on the horizontal axis.\n",
    "\n",
    "Note: The final output should be a 2-dimensional plot with the values from vec_y1 and vec_y2 on the vertical axis, and the $x$ values on the horizontal axis. **Remember to label the axes and add a title to the plot**."
   ]
  },
  {
   "cell_type": "code",
   "execution_count": 6,
   "id": "ab420753",
   "metadata": {},
   "outputs": [
    {
     "data": {
      "image/png": "[encoded data removed]",
      "text/plain": [
       "<Figure size 640x480 with 1 Axes>"
      ]
     },
     "metadata": {},
     "output_type": "display_data"
    }
   ],
   "source": [
    "# Write your answer here:\n",
    "import matplotlib.pyplot as plt\n",
    "\n",
    "x_vals = np.linspace(start = 0, stop = 2*np.pi, num = 100)\n",
    "\n",
    "vec_y1 = np.sin(x_vals)\n",
    "vec_y2 = np.cos(x_vals)\n",
    "\n",
    "list_vectors = [vec_y1, vec_y2]\n",
    "\n",
    "for vec in list_vectors:\n",
    "    plt.plot(x_vals, vec)\n",
    "\n",
    "plt.xlabel(\"$x$\")\n",
    "plt.ylabel(\"$y$\")\n",
    "plt.title(\"Graph of Sine and Cosine Functions for $0 \\leq x \\leq 2\\pi$\")\n",
    "plt.show()\n"
   ]
  },
  {
   "cell_type": "markdown",
   "id": "fd868066",
   "metadata": {},
   "source": [
    "<font size = \"5\">\n",
    "\n",
    "(d) Creating a scatter plot\n",
    "<br>\n",
    "\n",
    "<font size = \"3\">\n",
    "\n",
    "Using NumPy arrays, create a scatter plot of the function\n",
    "\n",
    "$q(x) = \\sin(\\pi x) + 1$\n",
    "\n",
    "at a set of points in the interval $0 \\leq x \\leq 2$"
   ]
  },
  {
   "cell_type": "code",
   "execution_count": 7,
   "id": "abe06645",
   "metadata": {},
   "outputs": [
    {
     "data": {
      "image/png": "[encoded data removed]",
      "text/plain": [
       "<Figure size 640x480 with 1 Axes>"
      ]
     },
     "metadata": {},
     "output_type": "display_data"
    }
   ],
   "source": [
    "# Write your answer here:\n",
    "# x_vals = np.array([0, 0.25, 0.5, 0.75, 1.0, 1.25, 1.5, 1.75, 2])\n",
    "\n",
    "# or \n",
    "\n",
    "x_vals = np.linspace(0, 2, num = 25) # or some other number besides 25\n",
    "\n",
    "q_vals = np.sin(np.pi*x_vals) + 1\n",
    "\n",
    "plt.scatter(x = x_vals, y = q_vals)\n",
    "plt.show()\n"
   ]
  },
  {
   "cell_type": "markdown",
   "id": "4863de6a",
   "metadata": {},
   "source": [
    "<font size = \"5\">\n",
    "\n",
    "(e) Open the dataset \"united_states_co2_emissions.csv\" in the \"practice_quiz_data\" folder using pandas\n",
    "\n",
    "<font size = \"3\">\n",
    "\n",
    "- Assign it to a variable named \"us_emissions\"\n",
    "- Note: This contains CO2 emissions (in kilotons) by the United States from 1960-2019. <br/> \n",
    "It is compiled from various sources, including the United Nations Framework Convention <br/>\n",
    "on Climate Change (UNFCCC) and the International Energy Agency (IEA)."
   ]
  },
  {
   "cell_type": "code",
   "execution_count": 7,
   "id": "62da0d1a",
   "metadata": {},
   "outputs": [],
   "source": [
    "# Write your answer here:\n",
    "import pandas as pd \n",
    "\n",
    "us_emissions = pd.read_csv(\"practice_quiz_data/united_states_co2_emissions.csv\")"
   ]
  },
  {
   "cell_type": "markdown",
   "id": "84acb468",
   "metadata": {},
   "source": [
    "<font size = \"5\">\n",
    "\n",
    "(f) View the dataset and create a list of variable names\n",
    "\n",
    "<font size = \"3\">\n",
    "\n",
    "- The us_emissions dataset has two named column headings. \n",
    "\n",
    "- Create a list containing two strings, one for each of the column headings.\n",
    "\n",
    "- The strings must match the headings **exactly** (the \"#\" symbols shown in DataWrangler are not part of the name). Otherwise you will run into a problem in part d)\n",
    "\n",
    "- Assign this list to a variable called \"columns\"\n",
    "\n",
    "- You do not have to \"extract\" the names from the dataset through a Python command. You can simply type them manually."
   ]
  },
  {
   "cell_type": "code",
   "execution_count": 8,
   "id": "09271f61",
   "metadata": {},
   "outputs": [],
   "source": [
    "# Write your answer here:\n",
    "columns = [\"year\", \"total_emissions\"]"
   ]
  },
  {
   "cell_type": "code",
   "execution_count": null,
   "id": "e6a1ebe3",
   "metadata": {},
   "outputs": [],
   "source": []
  }
 ],
 "metadata": {
  "kernelspec": {
   "display_name": "base",
   "language": "python",
   "name": "python3"
  },
  "language_info": {
   "codemirror_mode": {
    "name": "ipython",
    "version": 3
   },
   "file_extension": ".py",
   "mimetype": "text/x-python",
   "name": "python",
   "nbconvert_exporter": "python",
   "pygments_lexer": "ipython3",
   "version": "3.11.7"
  }
 },
 "nbformat": 4,
 "nbformat_minor": 5
}
